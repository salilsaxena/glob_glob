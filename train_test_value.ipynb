{
 "cells": [
  {
   "cell_type": "code",
   "execution_count": 31,
   "metadata": {},
   "outputs": [],
   "source": [
    "import os\n",
    "import pandas as pd\n",
    "import numpy as np\n",
    "from glob import glob"
   ]
  },
  {
   "cell_type": "code",
   "execution_count": 67,
   "metadata": {},
   "outputs": [],
   "source": [
    "te = pd.read_csv(\"C:\\\\Users\\\\Salil Saxena\\\\Desktop\\\\test_index.csv\")\n",
    "tr = pd.read_csv(os.getcwd()+\"\\\\train.csv\")"
   ]
  },
  {
   "cell_type": "code",
   "execution_count": 68,
   "metadata": {},
   "outputs": [],
   "source": [
    "te=te.values\n",
    "tr = tr.values\n",
    "# type(np_array)"
   ]
  },
  {
   "cell_type": "code",
   "execution_count": 69,
   "metadata": {},
   "outputs": [],
   "source": [
    "dirs = glob(os.getcwd()+\"\\\\Audio_Speech_Actors_01-24\\\\*\")\n"
   ]
  },
  {
   "cell_type": "code",
   "execution_count": 72,
   "metadata": {},
   "outputs": [
    {
     "data": {
      "text/plain": [
       "array([[ 0,  1,  2, ..., 54, 56, 59],\n",
       "       [ 0,  1,  3, ..., 57, 58, 59],\n",
       "       [ 0,  1,  2, ..., 56, 57, 59],\n",
       "       ...,\n",
       "       [ 0,  4,  5, ..., 56, 57, 59],\n",
       "       [ 0,  1,  2, ..., 57, 58, 59],\n",
       "       [ 0,  1,  2, ..., 57, 58, 59]], dtype=int64)"
      ]
     },
     "execution_count": 72,
     "metadata": {},
     "output_type": "execute_result"
    }
   ],
   "source": []
  },
  {
   "cell_type": "code",
   "execution_count": 73,
   "metadata": {},
   "outputs": [],
   "source": [
    "files= []\n",
    "for i in dirs:\n",
    "    files+=glob(i+\"\\\\*\")"
   ]
  },
  {
   "cell_type": "code",
   "execution_count": 74,
   "metadata": {},
   "outputs": [
    {
     "data": {
      "text/plain": [
       "(24, 60)"
      ]
     },
     "execution_count": 74,
     "metadata": {},
     "output_type": "execute_result"
    }
   ],
   "source": [
    "files = np.asarray(files)\n",
    "files= files.reshape(24,60)\n",
    "files.shape\n"
   ]
  },
  {
   "cell_type": "code",
   "execution_count": 81,
   "metadata": {},
   "outputs": [],
   "source": [
    "train = []\n",
    "for i in range(0,24):\n",
    "    for j in range(0,len(tr[i])):\n",
    "        train+=[files[i][tr[i][j]]]"
   ]
  },
  {
   "cell_type": "code",
   "execution_count": 82,
   "metadata": {},
   "outputs": [],
   "source": [
    "train = np.asarray(train)"
   ]
  },
  {
   "cell_type": "code",
   "execution_count": 84,
   "metadata": {},
   "outputs": [],
   "source": [
    "train = train.reshape(24,54)"
   ]
  },
  {
   "cell_type": "code",
   "execution_count": 85,
   "metadata": {},
   "outputs": [],
   "source": [
    "test = []\n",
    "for i in range(0,24):\n",
    "    for j in range(0,len(te[i])):\n",
    "        test+=[files[i][te[i][j]]]"
   ]
  },
  {
   "cell_type": "code",
   "execution_count": 87,
   "metadata": {},
   "outputs": [],
   "source": [
    "test = np.asarray(test)\n",
    "test = test.reshape(24,6)"
   ]
  },
  {
   "cell_type": "code",
   "execution_count": 90,
   "metadata": {},
   "outputs": [],
   "source": [
    "pd.DataFrame(test).to_csv(os.getcwd()+\"\\\\test_value.csv\")\n",
    "pd.DataFrame(train).to_csv(os.getcwd()+\"\\\\train_value.csv\")"
   ]
  },
  {
   "cell_type": "code",
   "execution_count": null,
   "metadata": {},
   "outputs": [],
   "source": []
  }
 ],
 "metadata": {
  "kernelspec": {
   "display_name": "Python 3",
   "language": "python",
   "name": "python3"
  },
  "language_info": {
   "codemirror_mode": {
    "name": "ipython",
    "version": 3
   },
   "file_extension": ".py",
   "mimetype": "text/x-python",
   "name": "python",
   "nbconvert_exporter": "python",
   "pygments_lexer": "ipython3",
   "version": "3.6.3"
  }
 },
 "nbformat": 4,
 "nbformat_minor": 2
}
