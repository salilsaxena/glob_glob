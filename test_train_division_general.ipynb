{
 "cells": [
  {
   "cell_type": "code",
   "execution_count": 1,
   "metadata": {},
   "outputs": [],
   "source": [
    "import numpy as np \n",
    "import glob \n",
    "import os\n",
    "import random\n",
    "import pandas as pd"
   ]
  },
  {
   "cell_type": "code",
   "execution_count": 2,
   "metadata": {},
   "outputs": [],
   "source": [
    "#extra\n"
   ]
  },
  {
   "cell_type": "code",
   "execution_count": 3,
   "metadata": {},
   "outputs": [
    {
     "data": {
      "text/plain": [
       "'C:\\\\Users\\\\Salil Saxena\\\\Desktop'"
      ]
     },
     "execution_count": 3,
     "metadata": {},
     "output_type": "execute_result"
    }
   ],
   "source": [
    "os.getcwd()\n"
   ]
  },
  {
   "cell_type": "code",
   "execution_count": 4,
   "metadata": {},
   "outputs": [],
   "source": [
    "a = \"C:\\\\Users\\\\Salil Saxena\\\\Desktop\\\\Audio_Speech_Actors_01-24\""
   ]
  },
  {
   "cell_type": "code",
   "execution_count": 5,
   "metadata": {},
   "outputs": [],
   "source": [
    "dirs = glob.glob(a+\"\\\\*\")"
   ]
  },
  {
   "cell_type": "code",
   "execution_count": 6,
   "metadata": {},
   "outputs": [],
   "source": [
    "len(dirs)\n",
    "files = []"
   ]
  },
  {
   "cell_type": "code",
   "execution_count": 7,
   "metadata": {},
   "outputs": [],
   "source": [
    "for i in dirs:\n",
    "    files+=glob.glob(i+\"\\*\")"
   ]
  },
  {
   "cell_type": "code",
   "execution_count": 8,
   "metadata": {},
   "outputs": [
    {
     "data": {
      "text/plain": [
       "1440"
      ]
     },
     "execution_count": 8,
     "metadata": {},
     "output_type": "execute_result"
    }
   ],
   "source": [
    "len(files)"
   ]
  },
  {
   "cell_type": "code",
   "execution_count": 9,
   "metadata": {},
   "outputs": [],
   "source": [
    "files_np = np.asarray(files)"
   ]
  },
  {
   "cell_type": "code",
   "execution_count": 10,
   "metadata": {},
   "outputs": [],
   "source": [
    "files_np = files_np.reshape(24,60)"
   ]
  },
  {
   "cell_type": "code",
   "execution_count": 11,
   "metadata": {},
   "outputs": [
    {
     "name": "stdout",
     "output_type": "stream",
     "text": [
      "True\n"
     ]
    }
   ],
   "source": [
    "flag=1\n",
    "for i in range(0,len(files_np)):\n",
    "    if(len(files_np[i])!=60):\n",
    "        flag=0\n",
    "        print(False)\n",
    "        break\n",
    "if(flag==1):\n",
    "    print(True)"
   ]
  },
  {
   "cell_type": "code",
   "execution_count": 20,
   "metadata": {},
   "outputs": [],
   "source": [
    "samples =6"
   ]
  },
  {
   "cell_type": "code",
   "execution_count": 21,
   "metadata": {},
   "outputs": [
    {
     "data": {
      "text/plain": [
       "list"
      ]
     },
     "execution_count": 21,
     "metadata": {},
     "output_type": "execute_result"
    }
   ],
   "source": [
    "type(random.sample(range(0,60),samples))"
   ]
  },
  {
   "cell_type": "code",
   "execution_count": 22,
   "metadata": {},
   "outputs": [],
   "source": [
    "random_ind=[]"
   ]
  },
  {
   "cell_type": "code",
   "execution_count": 23,
   "metadata": {},
   "outputs": [
    {
     "data": {
      "text/plain": [
       "[42,\n",
       " 57,\n",
       " 28,\n",
       " 35,\n",
       " 58,\n",
       " 55,\n",
       " 26,\n",
       " 51,\n",
       " 2,\n",
       " 44,\n",
       " 8,\n",
       " 54,\n",
       " 35,\n",
       " 29,\n",
       " 44,\n",
       " 21,\n",
       " 20,\n",
       " 58,\n",
       " 56,\n",
       " 37,\n",
       " 20,\n",
       " 8,\n",
       " 14,\n",
       " 25,\n",
       " 14,\n",
       " 28,\n",
       " 42,\n",
       " 13,\n",
       " 40,\n",
       " 10,\n",
       " 31,\n",
       " 18,\n",
       " 6,\n",
       " 51,\n",
       " 46,\n",
       " 54,\n",
       " 25,\n",
       " 13,\n",
       " 8,\n",
       " 47,\n",
       " 44,\n",
       " 28,\n",
       " 49,\n",
       " 39,\n",
       " 58,\n",
       " 43,\n",
       " 17,\n",
       " 16,\n",
       " 22,\n",
       " 52,\n",
       " 21,\n",
       " 42,\n",
       " 51,\n",
       " 18,\n",
       " 59,\n",
       " 58,\n",
       " 12,\n",
       " 14,\n",
       " 53,\n",
       " 45,\n",
       " 10,\n",
       " 33,\n",
       " 42,\n",
       " 29,\n",
       " 17,\n",
       " 47,\n",
       " 47,\n",
       " 13,\n",
       " 27,\n",
       " 8,\n",
       " 9,\n",
       " 18,\n",
       " 35,\n",
       " 5,\n",
       " 19,\n",
       " 45,\n",
       " 50,\n",
       " 49,\n",
       " 42,\n",
       " 59,\n",
       " 11,\n",
       " 13,\n",
       " 6,\n",
       " 17,\n",
       " 29,\n",
       " 56,\n",
       " 26,\n",
       " 4,\n",
       " 20,\n",
       " 9,\n",
       " 50,\n",
       " 19,\n",
       " 12,\n",
       " 29,\n",
       " 31,\n",
       " 2,\n",
       " 37,\n",
       " 40,\n",
       " 53,\n",
       " 24,\n",
       " 6,\n",
       " 20,\n",
       " 47,\n",
       " 56,\n",
       " 1,\n",
       " 0,\n",
       " 12,\n",
       " 40,\n",
       " 48,\n",
       " 31,\n",
       " 24,\n",
       " 2,\n",
       " 3,\n",
       " 14,\n",
       " 46,\n",
       " 37,\n",
       " 40,\n",
       " 21,\n",
       " 54,\n",
       " 0,\n",
       " 29,\n",
       " 52,\n",
       " 49,\n",
       " 20,\n",
       " 26,\n",
       " 33,\n",
       " 28,\n",
       " 3,\n",
       " 1,\n",
       " 58,\n",
       " 2,\n",
       " 8,\n",
       " 9,\n",
       " 6,\n",
       " 39,\n",
       " 15,\n",
       " 3,\n",
       " 38,\n",
       " 13,\n",
       " 39,\n",
       " 46,\n",
       " 7,\n",
       " 9,\n",
       " 38]"
      ]
     },
     "execution_count": 23,
     "metadata": {},
     "output_type": "execute_result"
    }
   ],
   "source": [
    "for i in  range(0,24):\n",
    "    random_ind += random.sample(range(0,60),samples)\n",
    "random_ind"
   ]
  },
  {
   "cell_type": "code",
   "execution_count": 24,
   "metadata": {},
   "outputs": [],
   "source": [
    "random_ind = np.asarray(random_ind)\n",
    "random_ind = random_ind.reshape(24,samples)"
   ]
  },
  {
   "cell_type": "code",
   "execution_count": 25,
   "metadata": {},
   "outputs": [],
   "source": [
    "test= []\n"
   ]
  },
  {
   "cell_type": "code",
   "execution_count": 26,
   "metadata": {},
   "outputs": [],
   "source": [
    "for i in range(0,24):\n",
    "    for j in range(0,samples):\n",
    "        test+=[files_np[i][random_ind[i][j]]]"
   ]
  },
  {
   "cell_type": "code",
   "execution_count": 27,
   "metadata": {},
   "outputs": [
    {
     "data": {
      "text/plain": [
       "144"
      ]
     },
     "execution_count": 27,
     "metadata": {},
     "output_type": "execute_result"
    }
   ],
   "source": [
    "len(test)"
   ]
  },
  {
   "cell_type": "code",
   "execution_count": 28,
   "metadata": {},
   "outputs": [
    {
     "data": {
      "text/plain": [
       "(24, 6)"
      ]
     },
     "execution_count": 28,
     "metadata": {},
     "output_type": "execute_result"
    }
   ],
   "source": [
    "test = np.asarray(test)\n",
    "test = test.reshape(24,samples)\n",
    "test.shape"
   ]
  },
  {
   "cell_type": "code",
   "execution_count": 29,
   "metadata": {},
   "outputs": [],
   "source": [
    "train = []"
   ]
  },
  {
   "cell_type": "code",
   "execution_count": 30,
   "metadata": {},
   "outputs": [],
   "source": [
    "for i in files:\n",
    "    if i not in test:\n",
    "        train+=[i]"
   ]
  },
  {
   "cell_type": "code",
   "execution_count": 31,
   "metadata": {},
   "outputs": [
    {
     "data": {
      "text/plain": [
       "(24, 6)"
      ]
     },
     "execution_count": 31,
     "metadata": {},
     "output_type": "execute_result"
    }
   ],
   "source": [
    "test.shape"
   ]
  },
  {
   "cell_type": "code",
   "execution_count": 32,
   "metadata": {},
   "outputs": [],
   "source": [
    "train = np.asarray(train)\n",
    "train = train.reshape(24,60-samples)"
   ]
  },
  {
   "cell_type": "code",
   "execution_count": 39,
   "metadata": {},
   "outputs": [],
   "source": [
    "pd.DataFrame(random_ind).to_csv(\"C:\\\\Users\\\\Salil Saxena\\\\Desktop\\\\test_index.csv\")"
   ]
  },
  {
   "cell_type": "code",
   "execution_count": 33,
   "metadata": {},
   "outputs": [
    {
     "data": {
      "text/plain": [
       "(24, 54)"
      ]
     },
     "execution_count": 33,
     "metadata": {},
     "output_type": "execute_result"
    }
   ],
   "source": [
    "train.shape"
   ]
  },
  {
   "cell_type": "code",
   "execution_count": 34,
   "metadata": {},
   "outputs": [
    {
     "data": {
      "text/plain": [
       "True"
      ]
     },
     "execution_count": 34,
     "metadata": {},
     "output_type": "execute_result"
    }
   ],
   "source": [
    "train.shape[0]*train.shape[1] + test.shape[0]*test.shape[1] == len(files)"
   ]
  },
  {
   "cell_type": "code",
   "execution_count": 35,
   "metadata": {},
   "outputs": [
    {
     "data": {
      "text/plain": [
       "1440"
      ]
     },
     "execution_count": 35,
     "metadata": {},
     "output_type": "execute_result"
    }
   ],
   "source": [
    "train.shape[0]*train.shape[1] + test.shape[0]*test.shape[1]"
   ]
  },
  {
   "cell_type": "code",
   "execution_count": 40,
   "metadata": {},
   "outputs": [],
   "source": [
    "pd.DataFrame(train).to_csv(\"C:\\\\Users\\\\Salil Saxena\\\\Desktop\\\\train_hcl.csv\")"
   ]
  },
  {
   "cell_type": "code",
   "execution_count": 29,
   "metadata": {},
   "outputs": [
    {
     "data": {
      "text/plain": [
       "'C:\\\\Users\\\\Salil Saxena\\\\Desktop'"
      ]
     },
     "execution_count": 29,
     "metadata": {},
     "output_type": "execute_result"
    }
   ],
   "source": [
    "os.getcwd()"
   ]
  },
  {
   "cell_type": "code",
   "execution_count": 43,
   "metadata": {},
   "outputs": [],
   "source": [
    "pd.DataFrame(test).to_csv(\"C:\\\\Users\\\\Salil Saxena\\\\Desktop\\\\test_hcl.csv\")"
   ]
  },
  {
   "cell_type": "code",
   "execution_count": 44,
   "metadata": {},
   "outputs": [
    {
     "data": {
      "text/plain": [
       "(24, 54)"
      ]
     },
     "execution_count": 44,
     "metadata": {},
     "output_type": "execute_result"
    }
   ],
   "source": [
    "train_index=[]\n",
    "for i in range(0,24):\n",
    "    for j in range(0,60):\n",
    "        if j not in random_ind[i]:\n",
    "            train_index+=[j]\n",
    "train_index = np.asarray(train_index)\n",
    "train_index = train_index.reshape(24,54)\n",
    "train_index.shape\n",
    "pd.DataFrame()"
   ]
  },
  {
   "cell_type": "code",
   "execution_count": 45,
   "metadata": {},
   "outputs": [
    {
     "data": {
      "text/plain": [
       "True"
      ]
     },
     "execution_count": 45,
     "metadata": {},
     "output_type": "execute_result"
    }
   ],
   "source": [
    "train_index.shape[0]*train_index.shape[1] + random_ind.shape[0]*random_ind.shape[1] == len(files)"
   ]
  },
  {
   "cell_type": "code",
   "execution_count": 48,
   "metadata": {},
   "outputs": [],
   "source": [
    "pd.DataFrame(train_index).to_csv(os.getcwd()+\"\\\\train_index.csv\")"
   ]
  },
  {
   "cell_type": "code",
   "execution_count": null,
   "metadata": {},
   "outputs": [],
   "source": []
  }
 ],
 "metadata": {
  "kernelspec": {
   "display_name": "Python 3",
   "language": "python",
   "name": "python3"
  },
  "language_info": {
   "codemirror_mode": {
    "name": "ipython",
    "version": 3
   },
   "file_extension": ".py",
   "mimetype": "text/x-python",
   "name": "python",
   "nbconvert_exporter": "python",
   "pygments_lexer": "ipython3",
   "version": "3.6.3"
  }
 },
 "nbformat": 4,
 "nbformat_minor": 2
}
